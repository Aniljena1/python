{
 "cells": [
  {
   "cell_type": "code",
   "execution_count": 1,
   "metadata": {},
   "outputs": [],
   "source": [
    "# importing the numpy library:\n",
    "import numpy as np"
   ]
  },
  {
   "cell_type": "code",
   "execution_count": 27,
   "metadata": {},
   "outputs": [
    {
     "name": "stdout",
     "output_type": "stream",
     "text": [
      "[1 2 3 4 5]\n"
     ]
    }
   ],
   "source": [
    "# creating a single dimensional (rank 1) array:\n",
    "x = np.array([1,2,3,4,5])\n",
    "\n",
    "#displaying the array:\n",
    "print(x)"
   ]
  },
  {
   "cell_type": "code",
   "execution_count": 28,
   "metadata": {},
   "outputs": [
    {
     "name": "stdout",
     "output_type": "stream",
     "text": [
      "int64\n"
     ]
    }
   ],
   "source": [
    "# checking the data type of the array:\n",
    "print(x.dtype)"
   ]
  },
  {
   "cell_type": "code",
   "execution_count": 29,
   "metadata": {},
   "outputs": [
    {
     "name": "stdout",
     "output_type": "stream",
     "text": [
      "<class 'numpy.ndarray'>\n"
     ]
    }
   ],
   "source": [
    "print(type(x))"
   ]
  },
  {
   "cell_type": "code",
   "execution_count": 30,
   "metadata": {},
   "outputs": [
    {
     "name": "stdout",
     "output_type": "stream",
     "text": [
      "(5,)\n"
     ]
    }
   ],
   "source": [
    "# checking the shape of array object:\n",
    "print(x.shape)"
   ]
  },
  {
   "cell_type": "code",
   "execution_count": 31,
   "metadata": {},
   "outputs": [
    {
     "name": "stdout",
     "output_type": "stream",
     "text": [
      "5\n"
     ]
    }
   ],
   "source": [
    "# size:\n",
    "print(x.size)"
   ]
  },
  {
   "cell_type": "code",
   "execution_count": 41,
   "metadata": {},
   "outputs": [
    {
     "name": "stdout",
     "output_type": "stream",
     "text": [
      "1\n"
     ]
    }
   ],
   "source": [
    "# chceking the number of dimensions:\n",
    "print(x.ndim)"
   ]
  },
  {
   "cell_type": "code",
   "execution_count": 38,
   "metadata": {},
   "outputs": [
    {
     "name": "stdout",
     "output_type": "stream",
     "text": [
      "1\n",
      "5\n",
      "1 3 5\n",
      "2 4\n"
     ]
    }
   ],
   "source": [
    "# Accessing array elements (Indexing):\n",
    "print(x[0])\n",
    "print(x[-1])\n",
    "print(x[0], x[2], x[4])\n",
    "print(x[1], x[3])"
   ]
  },
  {
   "cell_type": "code",
   "execution_count": 6,
   "metadata": {},
   "outputs": [
    {
     "name": "stdout",
     "output_type": "stream",
     "text": [
      "[[1 2 3]\n",
      " [4 5 6]]\n"
     ]
    }
   ],
   "source": [
    "# Creating multi dimensional arrays\n",
    "\n",
    "y = np.array([(1,2,3), (4,5,6)])\n",
    "print(y)\n"
   ]
  },
  {
   "cell_type": "code",
   "execution_count": 44,
   "metadata": {},
   "outputs": [
    {
     "name": "stdout",
     "output_type": "stream",
     "text": [
      "[[1 2 3]\n",
      " [4 5 6]\n",
      " [7 8 9]]\n",
      "2\n"
     ]
    }
   ],
   "source": [
    "z = np.array([(1,2,3), (4,5,6), (7,8,9)])\n",
    "print(z)\n",
    "print(z.ndim)"
   ]
  },
  {
   "cell_type": "code",
   "execution_count": 7,
   "metadata": {},
   "outputs": [
    {
     "name": "stdout",
     "output_type": "stream",
     "text": [
      "int64\n"
     ]
    }
   ],
   "source": [
    "print(y.dtype)"
   ]
  },
  {
   "cell_type": "code",
   "execution_count": 42,
   "metadata": {},
   "outputs": [
    {
     "name": "stdout",
     "output_type": "stream",
     "text": [
      "6\n",
      "(2, 3)\n",
      "2\n"
     ]
    }
   ],
   "source": [
    "#size\n",
    "print(y.size)\n",
    "\n",
    "#shape\n",
    "print(y.shape)\n",
    "\n",
    "#no. of dimensions\n",
    "print(y.ndim)"
   ]
  },
  {
   "cell_type": "code",
   "execution_count": 9,
   "metadata": {},
   "outputs": [
    {
     "name": "stdout",
     "output_type": "stream",
     "text": [
      "[1 2 3]\n"
     ]
    }
   ],
   "source": [
    "# Creating a array with different data types\n",
    "\n",
    "# creating an array of int datatype:\n",
    "a = np.array([1,2,3], dtype = int)\n",
    "print(a)\n",
    "\n"
   ]
  },
  {
   "cell_type": "code",
   "execution_count": 10,
   "metadata": {},
   "outputs": [
    {
     "name": "stdout",
     "output_type": "stream",
     "text": [
      "[1. 2. 3.]\n"
     ]
    }
   ],
   "source": [
    "# creating an array of float datatype:\n",
    "b = np.array([1,2,3], dtype = float)\n",
    "print(b)"
   ]
  },
  {
   "cell_type": "code",
   "execution_count": 11,
   "metadata": {},
   "outputs": [
    {
     "name": "stdout",
     "output_type": "stream",
     "text": [
      "[1.+0.j 2.+0.j 3.+0.j]\n"
     ]
    }
   ],
   "source": [
    "# creating an array of complex datatype:\n",
    "c = np.array([1,2,3], dtype = complex)\n",
    "print(c)"
   ]
  },
  {
   "cell_type": "code",
   "execution_count": null,
   "metadata": {},
   "outputs": [],
   "source": []
  },
  {
   "cell_type": "code",
   "execution_count": null,
   "metadata": {},
   "outputs": [],
   "source": [
    "Even you have the functionality of creating a structured data type and\n",
    "apply it to a ndarray object. This type of data type is also called \n",
    "Structured data type.\n",
    "\n",
    "Let's see a use case below:"
   ]
  },
  {
   "cell_type": "code",
   "execution_count": 21,
   "metadata": {},
   "outputs": [
    {
     "name": "stdout",
     "output_type": "stream",
     "text": [
      "[('age', 'i1')]\n"
     ]
    }
   ],
   "source": [
    "# Creating a Structured data type:\n",
    "dt_1 = np.dtype([('age', np.int8)])\n",
    "print(dt_1)"
   ]
  },
  {
   "cell_type": "code",
   "execution_count": 22,
   "metadata": {},
   "outputs": [
    {
     "name": "stdout",
     "output_type": "stream",
     "text": [
      "[(25,) (28,) (30,)]\n"
     ]
    }
   ],
   "source": [
    "# applying the above data type to an ndarray object:\n",
    "a = np.array([(25,), (28,), (30,)], dtype = dt_1)\n",
    "print(a)"
   ]
  },
  {
   "cell_type": "code",
   "execution_count": 23,
   "metadata": {},
   "outputs": [
    {
     "name": "stdout",
     "output_type": "stream",
     "text": [
      "[25 28 30]\n"
     ]
    }
   ],
   "source": [
    "# accessing the values present in age column:\n",
    "print(a['age'])"
   ]
  },
  {
   "cell_type": "code",
   "execution_count": null,
   "metadata": {},
   "outputs": [],
   "source": []
  },
  {
   "cell_type": "code",
   "execution_count": 46,
   "metadata": {},
   "outputs": [
    {
     "name": "stdout",
     "output_type": "stream",
     "text": [
      "[['101' 'Snigdha' '25' 'Hyderabad']\n",
      " ['102' 'Neha' '25' 'Hyderabad']\n",
      " ['103' 'Kousik' '26' 'Bangalore']\n",
      " ['104' 'Aravind' '27' 'Hyderabad']\n",
      " ['105' 'Kiran' '30' 'Chennai']\n",
      " ['106' 'Abdul' '30' 'Mumbai']]\n"
     ]
    }
   ],
   "source": [
    "# creating an array with user defined data type:\n",
    "\n",
    "#first create a user defined data type:\n",
    "emp = np.dtype([('eno','i4'), ('ename', 'S20'), ('age','i4'), ('loc', 'S20')])\n",
    "\n",
    "#applying the above data type to an array object:\n",
    "Employees = np.array([(101, 'Snigdha', 25, 'Hyderabad'),\n",
    "                     (102, 'Neha', 25, 'Hyderabad'),\n",
    "                     (103, 'Kousik', 26, 'Bangalore'),\n",
    "                     (104, 'Aravind', 27, 'Hyderabad'),\n",
    "                     (105, 'Kiran', 30, 'Chennai'),\n",
    "                     (106, 'Abdul', 30, 'Mumbai')])\n",
    "\n",
    "# displaying the array:\n",
    "print(Employees)"
   ]
  },
  {
   "cell_type": "code",
   "execution_count": null,
   "metadata": {},
   "outputs": [],
   "source": [
    "Note: Each built-in data types has a unique single character code:\n",
    "        b ----> boolean\n",
    "        i ----> ineger\n",
    "        f ----> float\n",
    "        S ----> String\n",
    "        c ----> complex \n",
    "        M ----> datetime "
   ]
  }
 ],
 "metadata": {
  "kernelspec": {
   "display_name": "Python 3",
   "language": "python",
   "name": "python3"
  },
  "language_info": {
   "codemirror_mode": {
    "name": "ipython",
    "version": 3
   },
   "file_extension": ".py",
   "mimetype": "text/x-python",
   "name": "python",
   "nbconvert_exporter": "python",
   "pygments_lexer": "ipython3",
   "version": "3.6.5"
  }
 },
 "nbformat": 4,
 "nbformat_minor": 2
}
